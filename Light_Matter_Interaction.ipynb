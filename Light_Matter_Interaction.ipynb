{
 "cells": [
  {
   "cell_type": "code",
   "execution_count": 1,
   "metadata": {
    "collapsed": false
   },
   "outputs": [],
   "source": [
    "# Author: Matthew Rowley <Matt.B.Rowley@gmail.com>\n",
    "# Copyright (c) 2015, Matthew Rowley\n",
    "# License: MIT\n",
    "\n",
    "from mayavi import mlab\n",
    "import numpy as np\n",
    "from scipy.special import sph_harm\n",
    "import time\n",
    "from numpy import sin\n",
    "from numpy import cos"
   ]
  },
  {
   "cell_type": "code",
   "execution_count": 2,
   "metadata": {
    "collapsed": true
   },
   "outputs": [],
   "source": [
    "# 2pz functions\n",
    "r_2pz = lambda r: 1/np.sqrt(24)*r*np.exp(-r/2)\n",
    "tp_2pz = lambda theta, phi: sph_harm(0, 1, theta, phi).real\n",
    "psi_2pz = lambda r, phi, theta: r_2pz(r) * tp_2pz(theta, phi)\n",
    "# 2s functions\n",
    "r_2s = lambda r: (2-r)*np.exp(-r/2)\n",
    "tp_2s = lambda theta, phi: sph_harm(0, 0, theta, phi).real\n",
    "psi_2s = lambda r, theta, phi: r_2s(r) * tp_2s(theta, phi)"
   ]
  },
  {
   "cell_type": "code",
   "execution_count": 3,
   "metadata": {
    "collapsed": false
   },
   "outputs": [],
   "source": [
    "def generateScatterRandomized(psi_func, r_min = 0.1, r_max = 8, r_number = 50,\n",
    "                  filename = None, silent = False, threshold = 100,\n",
    "                  display = True):\n",
    "    global x, y, z, r, theta, phi, psi\n",
    "    if not silent:\n",
    "        start_time = time.time() \n",
    "    r_vals = np.linspace(r_min, r_max, r_number)\n",
    "    r_step = r_vals[1]-r_vals[0]   \n",
    "    r = []\n",
    "    phi = []\n",
    "    theta = []\n",
    "    psi = []\n",
    "    i = 0\n",
    "    for rval in r_vals:\n",
    "        diameter = rval * 2 * np.pi\n",
    "        num = diameter / r_step\n",
    "        phi_vals = np.linspace(0, 1 * np.pi, num / 2)\n",
    "        try:\n",
    "            phi_step = phi_vals[1]-phi_vals[0]\n",
    "        except:\n",
    "            phi_step = 0\n",
    "        for phival in phi_vals:\n",
    "            theta_vals = np.linspace(0, 2 * np.pi, np.sin(phival) * num)\n",
    "            try:\n",
    "                theta_step = theta_vals[1]-theta_vals[0]\n",
    "            except:\n",
    "                theta_step = 0\n",
    "                theta_vals = [0]\n",
    "            for thetaval in theta_vals:  \n",
    "                thetaval = thetaval + (np.random.rand() - 0.5) * 0.2 * theta_step\n",
    "                rval = rval + (np.random.rand() - 0.5) * 0.2 * r_step\n",
    "                phival = phival + (np.random.rand() - 0.5) * 0.2 * phi_step\n",
    "                psival = psi_func(rval, phival, thetaval)\n",
    "                i = i + 1\n",
    "                if np.random.rand() < psival * np.conj(psival) * threshold:\n",
    "                    psi.append(np.real(psival))\n",
    "                    r.append(rval)\n",
    "                    phi.append(phival)\n",
    "                    theta.append(thetaval)\n",
    "    if not silent:\n",
    "        generate_time = time.time()\n",
    "        print(\"Time to Generate Points: {}s\".format(generate_time-start_time))\n",
    "    x = r * sin(phi) * cos(theta)\n",
    "    y = r * sin(phi) * sin(theta)\n",
    "    z = r * cos(phi)\n",
    "    figure = mlab.figure('DensityPlot', bgcolor=(1, 1, 1), fgcolor=(0, 0, 0), size=(600, 600))\n",
    "    mlab.clf()\n",
    "    mlab.points3d(x, y, z, psi, scale_mode='none', scale_factor=0.1)\n",
    "    mlab.view(0, 90, 50, (0, 0, 0)) \n",
    "    if not filename == None:\n",
    "        mlab.savefig(filename)  \n",
    "    if display:\n",
    "        # This will allow you to interact with the figure, but stalls the program\n",
    "        # until you close the window.\n",
    "        # If display is False, the window will come up, but it acts like it's frozen.\n",
    "        # That's fine. Just don't try to close it and it will work with each new frame\n",
    "        mlab.show()\n",
    "    if not silent:\n",
    "        print(\"Total points generated: {}\".format(i))\n",
    "        print(\"Total points displayed: {}\".format(len(r))) \n",
    "        print(\"Total time to generate image: {}s\".format((time.time() - start_time)))"
   ]
  },
  {
   "cell_type": "code",
   "execution_count": 4,
   "metadata": {
    "collapsed": true
   },
   "outputs": [],
   "source": [
    "def generateScatter(psi_func, r_min = 0.1, r_max = 10, r_number = 30,\n",
    "                  filename = None, silent = False, threshold = 100,\n",
    "                  display = True):\n",
    "    global x, y, z, r, theta, phi, psi\n",
    "    if not silent:\n",
    "        start_time = time.time() \n",
    "    r_vals = np.linspace(r_min, r_max, r_number)\n",
    "    r_step = r_vals[1]-r_vals[0]   \n",
    "    r = []\n",
    "    phi = []\n",
    "    theta = []\n",
    "    psi = []\n",
    "    i = 0\n",
    "    for rval in r_vals:\n",
    "        diameter = rval * 2 * np.pi\n",
    "        num = diameter / r_step\n",
    "        phi_vals = np.linspace(0, 1 * np.pi, num / 2)        \n",
    "        for phival in phi_vals:\n",
    "            theta_vals = np.linspace(0, 2 * np.pi, np.sin(phival) * num)\n",
    "            if phival == 0:\n",
    "                theta_vals = [0]\n",
    "            theta_offset = np.random.rand()\n",
    "            for thetaval in theta_vals:\n",
    "                psival = psi_func(rval, phival, thetaval)\n",
    "                i = i + 1\n",
    "                if np.random.rand() < psival * np.conj(psival) * threshold:\n",
    "                    psi.append(np.real(psival))\n",
    "                    r.append(rval)\n",
    "                    phi.append(phival)\n",
    "                    theta.append(thetaval+theta_offset)\n",
    "    if not silent:\n",
    "        generate_time = time.time()\n",
    "        print(\"Time to Generate Points: {}s\".format(generate_time-start_time))\n",
    "    x = r * sin(phi) * cos(theta)\n",
    "    y = r * sin(phi) * sin(theta)\n",
    "    z = r * cos(phi)\n",
    "    figure = mlab.figure('DensityPlot', bgcolor=(1, 1, 1), fgcolor=(0, 0, 0), size=(600, 600))\n",
    "    mlab.clf()\n",
    "    mlab.points3d(x, y, z, psi, scale_mode='none', scale_factor=0.05)\n",
    "    mlab.view(5, 85, 50, (0, 0, 0)) \n",
    "    if not filename == None:\n",
    "        mlab.savefig(filename)  \n",
    "    if display:\n",
    "        # This will allow you to interact with the figure, but stalls the program\n",
    "        # until you close the window.\n",
    "        # If display is False, the window will come up, but it acts like it's frozen.\n",
    "        # That's fine. Just don't try to close it and it will work with each new frame\n",
    "        mlab.show()\n",
    "    if not silent:\n",
    "        print(\"Total points generated: {}\".format(i))\n",
    "        print(\"Total points displayed: {}\".format(len(r))) \n",
    "        print(\"Total time to generate image: {}s\".format((time.time() - start_time)))"
   ]
  },
  {
   "cell_type": "code",
   "execution_count": 5,
   "metadata": {
    "collapsed": true
   },
   "outputs": [],
   "source": [
    "def generateScatterSlice(psi_func, r_min = 0.1, r_max = 8, r_number = 30,\n",
    "                  filename = None, silent = False, threshold = 100,\n",
    "                  display = True):\n",
    "    global x, y, z, r, theta, phi, psi\n",
    "    if not silent:\n",
    "        start_time = time.time() \n",
    "    r_vals = np.linspace(r_min, r_max, r_number)\n",
    "    r_step = r_vals[1]-r_vals[0]   \n",
    "    r = []\n",
    "    phi = []\n",
    "    theta = []\n",
    "    psi = []\n",
    "    i = 0\n",
    "    for rval in r_vals:\n",
    "        diameter = rval * 2 * np.pi\n",
    "        num = diameter / r_step\n",
    "        phi_vals = np.linspace(0, 1 * np.pi, num / 2)        \n",
    "        for phival in phi_vals:\n",
    "            theta_vals = np.array([0,np.pi])                   \n",
    "            for thetaval in theta_vals:\n",
    "                psival = psi_func(rval, phival, thetaval)\n",
    "                i = i + 1\n",
    "                if np.random.rand() < psival * np.conj(psival) * threshold:\n",
    "                    psi.append(np.real(psival))\n",
    "                    r.append(rval)\n",
    "                    phi.append(phival)\n",
    "                    theta.append(thetaval)\n",
    "    if not silent:\n",
    "        generate_time = time.time()\n",
    "        print(\"Time to Generate Points: {}s\".format(generate_time-start_time))\n",
    "    x = r * sin(phi) * cos(theta)\n",
    "    y = r * sin(phi) * sin(theta)\n",
    "    z = r * cos(phi)\n",
    "    figure = mlab.figure('DensityPlot', bgcolor=(1, 1, 1), fgcolor=(0, 0, 0), size=(600, 600))\n",
    "    mlab.clf()\n",
    "    mlab.points3d(x, y, z, psi, scale_mode='none', scale_factor=0.05)\n",
    "    mlab.view(5, 85, 50, (0, 0, 0)) \n",
    "    if not filename == None:\n",
    "        mlab.savefig(filename)  \n",
    "    if display:\n",
    "        # This will allow you to interact with the figure, but stalls the program\n",
    "        # until you close the window.\n",
    "        # If display is False, the window will come up, but it acts like it's frozen.\n",
    "        # That's fine. Just don't try to close it and it will work with each new frame\n",
    "        mlab.show()\n",
    "    if not silent:\n",
    "        print(\"Total points generated: {}\".format(i))\n",
    "        print(\"Total points displayed: {}\".format(len(r))) \n",
    "        print(\"Total time to generate image: {}s\".format((time.time() - start_time)))"
   ]
  },
  {
   "cell_type": "code",
   "execution_count": 6,
   "metadata": {
    "collapsed": true
   },
   "outputs": [],
   "source": [
    "def generateIso(psi_func, r_min = 0.2, r_max = 5, r_number = 40,\n",
    "                  filename = None, silent = False, threshold = 0.0015,\n",
    "                  display = True):\n",
    "    global x, y, z, psi\n",
    "    if not silent:\n",
    "        start_time = time.time()\n",
    "    r_vals = np.linspace(r_min, r_max, r_number)\n",
    "    r_range = r_max - r_min\n",
    "    step_size = r_range / r_number\n",
    "    r = []\n",
    "    phi = []\n",
    "    theta = []\n",
    "    psi = []\n",
    "    i = 0\n",
    "    for rval in r_vals:\n",
    "        diameter = rval * 2 * np.pi\n",
    "        num = diameter / step_size\n",
    "        phi_vals = np.linspace(0, 1 * np.pi, num / 2)\n",
    "        for phival in phi_vals:\n",
    "            theta_vals = np.linspace(0, 2 * np.pi, np.sin(phival) * num)\n",
    "            if phival == 0:\n",
    "                theta_vals = [0]\n",
    "            theta_offset = np.random.rand()\n",
    "            for thetaval in theta_vals:  \n",
    "                psival = psi_func(rval, phival, thetaval)\n",
    "                i = i + 1\n",
    "                if psival * psival >= 0.8 * threshold:# and psival * np.conj(psival) <= 2 * threshold :\n",
    "                    psi.append(np.real(psival))\n",
    "                    r.append(rval)\n",
    "                    phi.append(phival)\n",
    "                    theta.append(thetaval + theta_offset)\n",
    "    if not silent:\n",
    "        generate_time = time.time()\n",
    "        print(\"Time to Generate Points: {}s\".format(generate_time-start_time))\n",
    "    x = r * sin(phi) * cos(theta)\n",
    "    y = r * sin(phi) * sin(theta)\n",
    "    z = r * cos(phi)\n",
    "    psi = psi\n",
    "    figure = mlab.figure('DensityPlot', bgcolor=(1, 1, 1), fgcolor=(0, 0, 0), size=(600, 600))\n",
    "    mlab.clf()\n",
    "    mlab.points3d(x, y, z, psi, scale_mode='none', scale_factor=1.0)\n",
    "    #mlab.mesh(x, y, z, scalars = psi)\n",
    "    mlab.view(0, 90, 50, (0, 0, 0)) \n",
    "    if not filename == None:\n",
    "        mlab.savefig(filename)  \n",
    "    if display:\n",
    "        # This will allow you to interact with the figure, but stalls the program\n",
    "        # until you close the window.\n",
    "        # If display is False, the window will come up, but it acts like it's frozen.\n",
    "        # That's fine. Just don't try to close it and it will work with each new frame\n",
    "        mlab.show()\n",
    "    if not silent:\n",
    "        print(\"Total points generated: {}\".format(i))\n",
    "        print(\"Total points displayed: {}\".format(len(r))) \n",
    "        print(\"Total time to generate image: {}s\".format((time.time() - start_time)))"
   ]
  },
  {
   "cell_type": "code",
   "execution_count": 15,
   "metadata": {
    "collapsed": false
   },
   "outputs": [],
   "source": [
    "x = [[1,0,0,0],[1,1,1,0]]\n",
    "y = [[0,0,0,1],[0,0,1,1]]\n",
    "z = [[0,0,1,1],[0,1,1,1]]\n",
    "figure = mlab.figure('DensityPlot', bgcolor=(1, 1, 1), fgcolor=(0, 0, 0), size=(600, 600))\n",
    "mlab.clf()\n",
    "mlab.mesh(x, y, z)\n",
    "mlab.axes()\n",
    "mlab.view(0, 90, 10, (0, 0, 0)) \n",
    "mlab.show()"
   ]
  },
  {
   "cell_type": "code",
   "execution_count": 14,
   "metadata": {
    "collapsed": false
   },
   "outputs": [
    {
     "name": "stdout",
     "output_type": "stream",
     "text": [
      "Total Time to Animate: 7294.11182594s\n"
     ]
    }
   ],
   "source": [
    "start_time = time.time()\n",
    "for i, t in enumerate(np.linspace(0,np.pi/2,50)):    \n",
    "    my_psi = lambda r, phi, theta: (np.sin(t)*psi_2pz(r,phi,theta)*np.exp(1j*21*t)+np.cos(t)*psi_2s(r,phi,theta)**np.exp(1j*1*t))\n",
    "    generateScatter(my_psi, r_number = 45, filename = \"image{}.png\".format(i), silent = True,\n",
    "                    threshold = 30 + 125 * np.sin(t) * np.sin(t), display = False)\n",
    "print(\"Total Time to Animate: {}s\".format(time.time()-start_time))"
   ]
  },
  {
   "cell_type": "code",
   "execution_count": null,
   "metadata": {
    "collapsed": false
   },
   "outputs": [],
   "source": [
    "start_time = time.time()\n",
    "for i, t in enumerate(np.linspace(0,np.pi/2,50)):    \n",
    "    my_psi = lambda r, phi, theta: (np.sin(t)*psi_2pz(r,phi,theta)*np.exp(1j*21*t)+np.cos(t)*psi_2s(r,phi,theta)**np.exp(1j*1*t))\n",
    "    generateIso(my_psi, r_number = 40, filename = \"Iso_image{}.png\".format(i), silent = True, display = False, threshold = 0.0005)\n",
    "print(\"Total Time to Animate: {}s\".format(time.time()-start_time))"
   ]
  },
  {
   "cell_type": "code",
   "execution_count": 47,
   "metadata": {
    "collapsed": false
   },
   "outputs": [
    {
     "name": "stdout",
     "output_type": "stream",
     "text": [
      "Time to Generate Points: 5.99455118179s\n",
      "Total points generated: 37118\n",
      "Total points displayed: 10383\n",
      "Total time to generate image: 21.8142981529s\n",
      "10383\n",
      "0.0543487519161\n",
      "3.08457609554\n"
     ]
    }
   ],
   "source": [
    "generateIso(psi_2pz, r_number = 20)\n",
    "print(len(x))\n",
    "print(np.max(psi))\n",
    "print(np.max(x))"
   ]
  },
  {
   "cell_type": "code",
   "execution_count": 64,
   "metadata": {
    "collapsed": false
   },
   "outputs": [
    {
     "name": "stdout",
     "output_type": "stream",
     "text": [
      "-0.0151497540467\n"
     ]
    }
   ],
   "source": [
    "#print(theta)\n",
    "print(np.min(phi))"
   ]
  },
  {
   "cell_type": "code",
   "execution_count": 28,
   "metadata": {
    "collapsed": false
   },
   "outputs": [
    {
     "name": "stdout",
     "output_type": "stream",
     "text": [
      "Time to Generate Points: 7.38190317154s\n",
      "Total points generated: 30584\n",
      "Total points displayed: 602\n",
      "Total time to generate image: 14.5747830868s\n",
      "0.53419345367\n"
     ]
    }
   ],
   "source": [
    "generateScatter(psi_2pz, r_number = 20, threshold = 100, display = True)\n",
    "print(np.max(psi)*np.max(psi)*100)"
   ]
  },
  {
   "cell_type": "code",
   "execution_count": 144,
   "metadata": {
    "collapsed": false
   },
   "outputs": [
    {
     "data": {
      "text/plain": [
       "<mayavi.modules.surface.Surface at 0x7f57587a31d0>"
      ]
     },
     "execution_count": 144,
     "metadata": {},
     "output_type": "execute_result"
    }
   ],
   "source": [
    "pi = np.pi\n",
    "cos = np.cos\n",
    "sin = np.sin\n",
    "dphi, dtheta = pi / 4, pi / 4\n",
    "[phi, theta] = np.mgrid[0:pi + dphi * 1.5:dphi,\n",
    "                           0:2 * pi + dtheta * 1.5:dtheta]\n",
    "m0 = 4\n",
    "m1 = 3\n",
    "m2 = 2\n",
    "m3 = 3\n",
    "m4 = 6\n",
    "m5 = 2\n",
    "m6 = 6\n",
    "m7 = 4\n",
    "r = sin(m0 * phi) ** m1 + cos(m2 * phi) ** m3 + \\\n",
    "    sin(m4 * theta) ** m5 + cos(m6 * theta) ** m7\n",
    "x = r * sin(phi) * cos(theta)\n",
    "y = r * cos(phi)\n",
    "z = r * sin(phi) * sin(theta)\n",
    "\n",
    "mlab.mesh(x, y, z, colormap=\"bone\")"
   ]
  },
  {
   "cell_type": "code",
   "execution_count": 148,
   "metadata": {
    "collapsed": false
   },
   "outputs": [
    {
     "name": "stdout",
     "output_type": "stream",
     "text": [
      "[[  0.00000000e+00   0.00000000e+00   0.00000000e+00   0.00000000e+00\n",
      "    0.00000000e+00  -0.00000000e+00  -0.00000000e+00  -0.00000000e+00\n",
      "   -0.00000000e+00   0.00000000e+00]\n",
      " [  0.00000000e+00   5.00000000e-01   7.07106781e-01   5.00000000e-01\n",
      "    8.65956056e-17  -5.00000000e-01  -7.07106781e-01  -5.00000000e-01\n",
      "   -1.73191211e-16   5.00000000e-01]\n",
      " [  0.00000000e+00   8.05180865e-64   0.00000000e+00   6.52196500e-62\n",
      "    0.00000000e+00  -3.72922161e-59  -0.00000000e+00  -4.09224917e-62\n",
      "   -0.00000000e+00   9.78304585e-59]\n",
      " [  0.00000000e+00   5.00000000e-01   7.07106781e-01   5.00000000e-01\n",
      "    8.65956056e-17  -5.00000000e-01  -7.07106781e-01  -5.00000000e-01\n",
      "   -1.73191211e-16   5.00000000e-01]\n",
      " [  0.00000000e+00   1.73191211e-16   2.44929360e-16   1.73191211e-16\n",
      "    2.99951957e-32  -1.73191211e-16  -2.44929360e-16  -1.73191211e-16\n",
      "   -5.99903913e-32   1.73191211e-16]\n",
      " [ -0.00000000e+00  -5.00000000e-01  -7.07106781e-01  -5.00000000e-01\n",
      "   -8.65956056e-17   5.00000000e-01   7.07106781e-01   5.00000000e-01\n",
      "    1.73191211e-16  -5.00000000e-01]]\n"
     ]
    }
   ],
   "source": [
    "print(z)"
   ]
  },
  {
   "cell_type": "code",
   "execution_count": 41,
   "metadata": {
    "collapsed": false
   },
   "outputs": [
    {
     "name": "stdout",
     "output_type": "stream",
     "text": [
      "Total points evaluated: 278843\n",
      "Total points displayed: 8844\n",
      "Time to generate image: 51.3174600601s\n"
     ]
    }
   ],
   "source": [
    "start_time = time.time()\n",
    "r_vals = np.linspace(0.1,5,40)\n",
    "r = []\n",
    "phi = []\n",
    "theta = []\n",
    "psi = []\n",
    "i=0\n",
    "for rval in r_vals:\n",
    "    num = rval*51\n",
    "    phi_vals = np.linspace(0,1*np.pi,num/2)\n",
    "    for phival in phi_vals:\n",
    "        theta_vals = np.linspace(0,2*np.pi,np.sin(phival)*num)\n",
    "        for thetaval in theta_vals:\n",
    "            psival = psi_2pz(rval, phival, thetaval)\n",
    "            i = i+1\n",
    "            if np.random.rand() < psival * psival * 30:#True:#\n",
    "                psi.append(psival)\n",
    "                r.append(rval)\n",
    "                phi.append(phival)\n",
    "                theta.append(thetaval + np.random.rand())\n",
    "r = np.array(r)\n",
    "phi = np.array(phi)\n",
    "theta = np.array(theta)\n",
    "psi = np.array(psi)\n",
    "print(\"Total points evaluated: {}\".format(i))\n",
    "print(\"Total points displayed: {}\".format(len(r)))\n",
    "x = r * sin(phi) * cos(theta)\n",
    "y = r * sin(phi) * sin(theta)\n",
    "z = r * cos(phi)\n",
    "#density = np.ones_like(z)\n",
    "figure = mlab.figure('DensityPlot', bgcolor=(1, 1, 1), fgcolor=(0, 0, 0), size=(600, 600))\n",
    "#mlab.clf()\n",
    "mlab.points3d(x, y, z, psi, scale_mode='none', scale_factor=0.07)\n",
    "#mlab.axes()\n",
    "mlab.view(0, 90, 30, (0, 0, 0)) \n",
    "print(\"Time to generate image: {}s\".format((time.time() - start_time)))\n",
    "mlab.show()\n",
    "# Without np.array() - 49.3 - 46.67 - 49.3685\n",
    "# With np.array() - 49.95 - 49.98 - 49.55"
   ]
  },
  {
   "cell_type": "code",
   "execution_count": null,
   "metadata": {
    "collapsed": false
   },
   "outputs": [],
   "source": [
    "r, phi, theta = np.mgrid[0:20:100j,0:pi:101j, 0:2 * pi:101j]\n",
    "\n",
    "phi_vals = np.linspace(0,np.pi,100)\n",
    "theta_vals = np.linspace(0,2*np.pi,100)\n",
    "r_vals = np.empty(100)\n",
    "rstep = lambda r: 1/(r*r)\n",
    "step = 0.01\n",
    "value = 0\n",
    "for i in range(len(r_vals)):\n",
    "    r_vals[i] = value\n",
    "r_steps = np.linspace(0,20,100)\n",
    "# The strategy is to first define the psi functions. Then generate\n",
    "# points randomly with the proper density distribution. To do that\n",
    "# we evaluate the density distribution at discrete points then\n",
    "# create that number of new points randomly generated about the\n",
    "# parent point. Next, calculate the value of psi at the new points.\n",
    "# Finally, convert the new point coordinates into x,y,z space and\n",
    "# plot them shaded by the value of psi.\n",
    "\n",
    "# 2s functions\n",
    "r_2s = lambda r: (2-r)*np.exp(-r/2)\n",
    "tp_2s = lambda theta, phi: sph_harm(0, 0, theta, phi).real\n",
    "psi_2s = lambda r, theta, phi: r_2s(r) * tp_2s(theta, phi)\n",
    "\n",
    "# 2pz functions\n",
    "r_2pz = lambda r: 1/np.sqrt(24)*r*np.exp(-r/2)\n",
    "tp_2pz = lambda theta, phi: sph_harm(1, 0, theta, phi).real\n",
    "psi_2pz = lambda r, theta, phi: r_2pz(r) * tp_2pz(theta, phi)\n",
    "#psi_2pz = lambda r,theta: 1/(4*np.sqrt(np.pi))r*np.exp(-r/2)*np.cos(theta)\n",
    "\n",
    "# Now for the density functions\n",
    "\n",
    "dr_2s = lambda r: psi_2s(r)*psi_2s(r)*r*r*4*np.pi\n",
    "def Orbital2s(r, phi, theta):\n",
    "    d = 1 / (4 * np.sqrt(2*np.pi))*(2- r)*np.exp(-1*r/2)\n",
    "    return d\n",
    "def Orbital2pz(r, phi, theta):\n",
    "    d = 1 / (4 * np.sqrt(2*np.pi))*r*np.exp(-1*r/2)*np.cos(theta)\n",
    "    return d\n",
    "orbital2s = Orbital2s(r,phi,theta)\n",
    "x = r * sin(phi) * cos(theta)\n",
    "y = r * sin(phi) * sin(theta)\n",
    "z = r * cos(phi)\n",
    "#mlab.figure(1, bgcolor=(1, 1, 1), fgcolor=(0, 0, 0), size=(400, 300))\n",
    "#mlab.clf()\n",
    "#pts = mlab.points3d(x, y, z, orbital2s, scale_mode='none', scale_factor=0.07)\n",
    "#mlab.axes()\n",
    "#mlab.show()"
   ]
  },
  {
   "cell_type": "code",
   "execution_count": 137,
   "metadata": {
    "collapsed": false
   },
   "outputs": [
    {
     "ename": "AssertionError",
     "evalue": "Array x must be 2 dimensional.",
     "output_type": "error",
     "traceback": [
      "\u001b[1;31m---------------------------------------------------------------------------\u001b[0m",
      "\u001b[1;31mAssertionError\u001b[0m                            Traceback (most recent call last)",
      "\u001b[1;32m<ipython-input-137-ac9f11d3eafd>\u001b[0m in \u001b[0;36m<module>\u001b[1;34m()\u001b[0m\n\u001b[0;32m      6\u001b[0m         \u001b[0ms\u001b[0m \u001b[1;33m=\u001b[0m \u001b[0msph_harm\u001b[0m\u001b[1;33m(\u001b[0m\u001b[0mm\u001b[0m\u001b[1;33m,\u001b[0m \u001b[0mn\u001b[0m\u001b[1;33m,\u001b[0m \u001b[0mtheta\u001b[0m\u001b[1;33m,\u001b[0m \u001b[0mphi\u001b[0m\u001b[1;33m)\u001b[0m\u001b[1;33m.\u001b[0m\u001b[0mreal\u001b[0m\u001b[1;33m\u001b[0m\u001b[0m\n\u001b[0;32m      7\u001b[0m \u001b[1;33m\u001b[0m\u001b[0m\n\u001b[1;32m----> 8\u001b[1;33m         \u001b[0mmlab\u001b[0m\u001b[1;33m.\u001b[0m\u001b[0mmesh\u001b[0m\u001b[1;33m(\u001b[0m\u001b[0mx\u001b[0m \u001b[1;33m-\u001b[0m \u001b[0mm\u001b[0m\u001b[1;33m,\u001b[0m \u001b[0my\u001b[0m \u001b[1;33m-\u001b[0m \u001b[0mn\u001b[0m\u001b[1;33m,\u001b[0m \u001b[0mz\u001b[0m\u001b[1;33m,\u001b[0m \u001b[0mscalars\u001b[0m\u001b[1;33m=\u001b[0m\u001b[0ms\u001b[0m\u001b[1;33m,\u001b[0m \u001b[0mcolormap\u001b[0m\u001b[1;33m=\u001b[0m\u001b[1;34m'jet'\u001b[0m\u001b[1;33m)\u001b[0m\u001b[1;33m\u001b[0m\u001b[0m\n\u001b[0m\u001b[0;32m      9\u001b[0m \u001b[1;33m\u001b[0m\u001b[0m\n\u001b[0;32m     10\u001b[0m         \u001b[0ms\u001b[0m\u001b[1;33m[\u001b[0m\u001b[0ms\u001b[0m \u001b[1;33m<\u001b[0m \u001b[1;36m0\u001b[0m\u001b[1;33m]\u001b[0m \u001b[1;33m*=\u001b[0m \u001b[1;36m0.97\u001b[0m\u001b[1;33m\u001b[0m\u001b[0m\n",
      "\u001b[1;32m/usr/lib/python2.7/dist-packages/mayavi/tools/helper_functions.pyc\u001b[0m in \u001b[0;36mthe_function\u001b[1;34m(*args, **kwargs)\u001b[0m\n\u001b[0;32m     32\u001b[0m \u001b[1;32mdef\u001b[0m \u001b[0mdocument_pipeline\u001b[0m\u001b[1;33m(\u001b[0m\u001b[0mpipeline\u001b[0m\u001b[1;33m)\u001b[0m\u001b[1;33m:\u001b[0m\u001b[1;33m\u001b[0m\u001b[0m\n\u001b[0;32m     33\u001b[0m     \u001b[1;32mdef\u001b[0m \u001b[0mthe_function\u001b[0m\u001b[1;33m(\u001b[0m\u001b[1;33m*\u001b[0m\u001b[0margs\u001b[0m\u001b[1;33m,\u001b[0m \u001b[1;33m**\u001b[0m\u001b[0mkwargs\u001b[0m\u001b[1;33m)\u001b[0m\u001b[1;33m:\u001b[0m\u001b[1;33m\u001b[0m\u001b[0m\n\u001b[1;32m---> 34\u001b[1;33m         \u001b[1;32mreturn\u001b[0m \u001b[0mpipeline\u001b[0m\u001b[1;33m(\u001b[0m\u001b[1;33m*\u001b[0m\u001b[0margs\u001b[0m\u001b[1;33m,\u001b[0m \u001b[1;33m**\u001b[0m\u001b[0mkwargs\u001b[0m\u001b[1;33m)\u001b[0m\u001b[1;33m\u001b[0m\u001b[0m\n\u001b[0m\u001b[0;32m     35\u001b[0m \u001b[1;33m\u001b[0m\u001b[0m\n\u001b[0;32m     36\u001b[0m     \u001b[1;32mif\u001b[0m \u001b[0mhasattr\u001b[0m\u001b[1;33m(\u001b[0m\u001b[0mpipeline\u001b[0m\u001b[1;33m,\u001b[0m \u001b[1;34m'doc'\u001b[0m\u001b[1;33m)\u001b[0m\u001b[1;33m:\u001b[0m\u001b[1;33m\u001b[0m\u001b[0m\n",
      "\u001b[1;32m/usr/lib/python2.7/dist-packages/mayavi/tools/helper_functions.pyc\u001b[0m in \u001b[0;36m__call__\u001b[1;34m(self, *args, **kwargs)\u001b[0m\n\u001b[0;32m     77\u001b[0m             \u001b[0mscene\u001b[0m\u001b[1;33m.\u001b[0m\u001b[0mdisable_render\u001b[0m \u001b[1;33m=\u001b[0m \u001b[0mTrue\u001b[0m\u001b[1;33m\u001b[0m\u001b[0m\n\u001b[0;32m     78\u001b[0m         \u001b[1;31m# Then call the real logic\u001b[0m\u001b[1;33m\u001b[0m\u001b[1;33m\u001b[0m\u001b[0m\n\u001b[1;32m---> 79\u001b[1;33m         \u001b[0moutput\u001b[0m \u001b[1;33m=\u001b[0m \u001b[0mself\u001b[0m\u001b[1;33m.\u001b[0m\u001b[0m__call_internal__\u001b[0m\u001b[1;33m(\u001b[0m\u001b[1;33m*\u001b[0m\u001b[0margs\u001b[0m\u001b[1;33m,\u001b[0m \u001b[1;33m**\u001b[0m\u001b[0mkwargs\u001b[0m\u001b[1;33m)\u001b[0m\u001b[1;33m\u001b[0m\u001b[0m\n\u001b[0m\u001b[0;32m     80\u001b[0m         \u001b[1;31m# And re-enable the rendering, if needed.\u001b[0m\u001b[1;33m\u001b[0m\u001b[1;33m\u001b[0m\u001b[0m\n\u001b[0;32m     81\u001b[0m         \u001b[1;32mif\u001b[0m \u001b[0mscene\u001b[0m \u001b[1;32mis\u001b[0m \u001b[1;32mnot\u001b[0m \u001b[0mNone\u001b[0m\u001b[1;33m:\u001b[0m\u001b[1;33m\u001b[0m\u001b[0m\n",
      "\u001b[1;32m/usr/lib/python2.7/dist-packages/mayavi/tools/helper_functions.pyc\u001b[0m in \u001b[0;36m__call_internal__\u001b[1;34m(self, *args, **kwargs)\u001b[0m\n\u001b[0;32m    830\u001b[0m         \u001b[0mfilters\u001b[0m\u001b[1;33m.\u001b[0m\u001b[1;33m\u001b[0m\u001b[0m\n\u001b[0;32m    831\u001b[0m         \"\"\"\n\u001b[1;32m--> 832\u001b[1;33m         \u001b[0mself\u001b[0m\u001b[1;33m.\u001b[0m\u001b[0msource\u001b[0m \u001b[1;33m=\u001b[0m \u001b[0mself\u001b[0m\u001b[1;33m.\u001b[0m\u001b[0m_source_function\u001b[0m\u001b[1;33m(\u001b[0m\u001b[1;33m*\u001b[0m\u001b[0margs\u001b[0m\u001b[1;33m,\u001b[0m \u001b[1;33m**\u001b[0m\u001b[0mkwargs\u001b[0m\u001b[1;33m)\u001b[0m\u001b[1;33m\u001b[0m\u001b[0m\n\u001b[0m\u001b[0;32m    833\u001b[0m         \u001b[0mkwargs\u001b[0m\u001b[1;33m.\u001b[0m\u001b[0mpop\u001b[0m\u001b[1;33m(\u001b[0m\u001b[1;34m'name'\u001b[0m\u001b[1;33m,\u001b[0m \u001b[0mNone\u001b[0m\u001b[1;33m)\u001b[0m\u001b[1;33m\u001b[0m\u001b[0m\n\u001b[0;32m    834\u001b[0m         \u001b[0mself\u001b[0m\u001b[1;33m.\u001b[0m\u001b[0mstore_kwargs\u001b[0m\u001b[1;33m(\u001b[0m\u001b[0mkwargs\u001b[0m\u001b[1;33m)\u001b[0m\u001b[1;33m\u001b[0m\u001b[0m\n",
      "\u001b[1;32m/usr/lib/python2.7/dist-packages/mayavi/tools/sources.pyc\u001b[0m in \u001b[0;36mgrid_source\u001b[1;34m(x, y, z, **kwargs)\u001b[0m\n\u001b[0;32m   1259\u001b[0m     \u001b[0mx\u001b[0m\u001b[1;33m,\u001b[0m \u001b[0my\u001b[0m\u001b[1;33m,\u001b[0m \u001b[0mz\u001b[0m\u001b[1;33m,\u001b[0m \u001b[0mscalars\u001b[0m \u001b[1;33m=\u001b[0m \u001b[0mconvert_to_arrays\u001b[0m\u001b[1;33m(\u001b[0m\u001b[1;33m(\u001b[0m\u001b[0mx\u001b[0m\u001b[1;33m,\u001b[0m \u001b[0my\u001b[0m\u001b[1;33m,\u001b[0m \u001b[0mz\u001b[0m\u001b[1;33m,\u001b[0m \u001b[0mscalars\u001b[0m\u001b[1;33m)\u001b[0m\u001b[1;33m)\u001b[0m\u001b[1;33m\u001b[0m\u001b[0m\n\u001b[0;32m   1260\u001b[0m     \u001b[0mdata_source\u001b[0m \u001b[1;33m=\u001b[0m \u001b[0mMGridSource\u001b[0m\u001b[1;33m(\u001b[0m\u001b[1;33m)\u001b[0m\u001b[1;33m\u001b[0m\u001b[0m\n\u001b[1;32m-> 1261\u001b[1;33m     \u001b[0mdata_source\u001b[0m\u001b[1;33m.\u001b[0m\u001b[0mreset\u001b[0m\u001b[1;33m(\u001b[0m\u001b[0mx\u001b[0m\u001b[1;33m=\u001b[0m\u001b[0mx\u001b[0m\u001b[1;33m,\u001b[0m \u001b[0my\u001b[0m\u001b[1;33m=\u001b[0m\u001b[0my\u001b[0m\u001b[1;33m,\u001b[0m \u001b[0mz\u001b[0m\u001b[1;33m=\u001b[0m\u001b[0mz\u001b[0m\u001b[1;33m,\u001b[0m \u001b[0mscalars\u001b[0m\u001b[1;33m=\u001b[0m\u001b[0mscalars\u001b[0m\u001b[1;33m)\u001b[0m\u001b[1;33m\u001b[0m\u001b[0m\n\u001b[0m\u001b[0;32m   1262\u001b[0m \u001b[1;33m\u001b[0m\u001b[0m\n\u001b[0;32m   1263\u001b[0m     \u001b[0mname\u001b[0m \u001b[1;33m=\u001b[0m \u001b[0mkwargs\u001b[0m\u001b[1;33m.\u001b[0m\u001b[0mpop\u001b[0m\u001b[1;33m(\u001b[0m\u001b[1;34m'name'\u001b[0m\u001b[1;33m,\u001b[0m \u001b[1;34m'GridSource'\u001b[0m\u001b[1;33m)\u001b[0m\u001b[1;33m\u001b[0m\u001b[0m\n",
      "\u001b[1;32m/usr/lib/python2.7/dist-packages/mayavi/tools/sources.pyc\u001b[0m in \u001b[0;36mreset\u001b[1;34m(self, **traits)\u001b[0m\n\u001b[0;32m    687\u001b[0m         \u001b[0mx\u001b[0m\u001b[1;33m,\u001b[0m \u001b[0my\u001b[0m\u001b[1;33m,\u001b[0m \u001b[0mz\u001b[0m \u001b[1;33m=\u001b[0m \u001b[0mself\u001b[0m\u001b[1;33m.\u001b[0m\u001b[0mx\u001b[0m\u001b[1;33m,\u001b[0m \u001b[0mself\u001b[0m\u001b[1;33m.\u001b[0m\u001b[0my\u001b[0m\u001b[1;33m,\u001b[0m \u001b[0mself\u001b[0m\u001b[1;33m.\u001b[0m\u001b[0mz\u001b[0m\u001b[1;33m\u001b[0m\u001b[0m\n\u001b[0;32m    688\u001b[0m \u001b[1;33m\u001b[0m\u001b[0m\n\u001b[1;32m--> 689\u001b[1;33m         \u001b[1;32massert\u001b[0m \u001b[0mlen\u001b[0m\u001b[1;33m(\u001b[0m\u001b[0mx\u001b[0m\u001b[1;33m.\u001b[0m\u001b[0mshape\u001b[0m\u001b[1;33m)\u001b[0m \u001b[1;33m==\u001b[0m \u001b[1;36m2\u001b[0m\u001b[1;33m,\u001b[0m \u001b[1;34m\"Array x must be 2 dimensional.\"\u001b[0m\u001b[1;33m\u001b[0m\u001b[0m\n\u001b[0m\u001b[0;32m    690\u001b[0m         \u001b[1;32massert\u001b[0m \u001b[0mlen\u001b[0m\u001b[1;33m(\u001b[0m\u001b[0my\u001b[0m\u001b[1;33m.\u001b[0m\u001b[0mshape\u001b[0m\u001b[1;33m)\u001b[0m \u001b[1;33m==\u001b[0m \u001b[1;36m2\u001b[0m\u001b[1;33m,\u001b[0m \u001b[1;34m\"Array y must be 2 dimensional.\"\u001b[0m\u001b[1;33m\u001b[0m\u001b[0m\n\u001b[0;32m    691\u001b[0m         \u001b[1;32massert\u001b[0m \u001b[0mlen\u001b[0m\u001b[1;33m(\u001b[0m\u001b[0mz\u001b[0m\u001b[1;33m.\u001b[0m\u001b[0mshape\u001b[0m\u001b[1;33m)\u001b[0m \u001b[1;33m==\u001b[0m \u001b[1;36m2\u001b[0m\u001b[1;33m,\u001b[0m \u001b[1;34m\"Array z must be 2 dimensional.\"\u001b[0m\u001b[1;33m\u001b[0m\u001b[0m\n",
      "\u001b[1;31mAssertionError\u001b[0m: Array x must be 2 dimensional."
     ]
    }
   ],
   "source": [
    "mlab.figure(1, bgcolor=(1, 1, 1), fgcolor=(0, 0, 0), size=(400, 300))\n",
    "mlab.clf()\n",
    "# Represent spherical harmonics on the surface of the sphere\n",
    "for n in range(0, 2):\n",
    "    for m in range(n):\n",
    "        s = sph_harm(m, n, theta, phi).real\n",
    "\n",
    "        mlab.mesh(x - m, y - n, z, scalars=s, colormap='jet')\n",
    "\n",
    "        s[s < 0] *= 0.97\n",
    "\n",
    "        s /= s.max()\n",
    "        mlab.mesh(s * x - m, s * y - n, s * z + 1.3,\n",
    "                  scalars=s, colormap='Spectral')\n",
    "\n",
    "mlab.view(90, 70, 6.2, (-1.3, -2.9, 0.25))\n",
    "mlab.show()"
   ]
  },
  {
   "cell_type": "code",
   "execution_count": 2,
   "metadata": {
    "collapsed": false
   },
   "outputs": [],
   "source": [
    "s = sph_harm(0, 0, theta, phi).real\n",
    "abss = np.abs(s)\n",
    "s_orbital = [abss*x,abss*y,abss*z, s]"
   ]
  },
  {
   "cell_type": "code",
   "execution_count": 3,
   "metadata": {
    "collapsed": true
   },
   "outputs": [],
   "source": [
    "p = sph_harm(0, 1, theta, phi).real\n",
    "absp = np.abs(p)\n",
    "p_orbital = [absp*x, absp*y, absp*z, p]"
   ]
  },
  {
   "cell_type": "code",
   "execution_count": 4,
   "metadata": {
    "collapsed": true
   },
   "outputs": [],
   "source": [
    "d = sph_harm(1,2,theta,phi).real\n",
    "absd = np.abs(d)\n",
    "d_orbital = [absd*x, absd*y, absd*z, d]"
   ]
  },
  {
   "cell_type": "code",
   "execution_count": 13,
   "metadata": {
    "collapsed": false
   },
   "outputs": [],
   "source": [
    "def superposition(time):\n",
    "    s_coeff = np.sin(time)*np.sin(time)\n",
    "    p_coeff = 1-s_coeff\n",
    "    super_orbital = [1,1,1,1]\n",
    "    for i in range(len(super_orbital)):\n",
    "        value = s_coeff*p_orbital[i]+p_coeff*d_orbital[i]\n",
    "        super_orbital[i] = 16/np.sqrt(2)* value * value\n",
    "    return super_orbital"
   ]
  },
  {
   "cell_type": "code",
   "execution_count": 8,
   "metadata": {
    "collapsed": false
   },
   "outputs": [
    {
     "ename": "NameError",
     "evalue": "name 'super_orbital' is not defined",
     "output_type": "error",
     "traceback": [
      "\u001b[1;31m---------------------------------------------------------------------------\u001b[0m",
      "\u001b[1;31mNameError\u001b[0m                                 Traceback (most recent call last)",
      "\u001b[1;32m<ipython-input-8-4fa6478b2938>\u001b[0m in \u001b[0;36m<module>\u001b[1;34m()\u001b[0m\n\u001b[0;32m      1\u001b[0m \u001b[0mmlab\u001b[0m\u001b[1;33m.\u001b[0m\u001b[0mfigure\u001b[0m\u001b[1;33m(\u001b[0m\u001b[1;36m1\u001b[0m\u001b[1;33m,\u001b[0m \u001b[0mbgcolor\u001b[0m\u001b[1;33m=\u001b[0m\u001b[1;33m(\u001b[0m\u001b[1;36m1\u001b[0m\u001b[1;33m,\u001b[0m \u001b[1;36m1\u001b[0m\u001b[1;33m,\u001b[0m \u001b[1;36m1\u001b[0m\u001b[1;33m)\u001b[0m\u001b[1;33m,\u001b[0m \u001b[0mfgcolor\u001b[0m\u001b[1;33m=\u001b[0m\u001b[1;33m(\u001b[0m\u001b[1;36m0\u001b[0m\u001b[1;33m,\u001b[0m \u001b[1;36m0\u001b[0m\u001b[1;33m,\u001b[0m \u001b[1;36m0\u001b[0m\u001b[1;33m)\u001b[0m\u001b[1;33m,\u001b[0m \u001b[0msize\u001b[0m\u001b[1;33m=\u001b[0m\u001b[1;33m(\u001b[0m\u001b[1;36m400\u001b[0m\u001b[1;33m,\u001b[0m \u001b[1;36m300\u001b[0m\u001b[1;33m)\u001b[0m\u001b[1;33m)\u001b[0m\u001b[1;33m\u001b[0m\u001b[0m\n\u001b[0;32m      2\u001b[0m \u001b[0mmlab\u001b[0m\u001b[1;33m.\u001b[0m\u001b[0mclf\u001b[0m\u001b[1;33m(\u001b[0m\u001b[1;33m)\u001b[0m\u001b[1;33m\u001b[0m\u001b[0m\n\u001b[1;32m----> 3\u001b[1;33m \u001b[0mmlab\u001b[0m\u001b[1;33m.\u001b[0m\u001b[0mmesh\u001b[0m\u001b[1;33m(\u001b[0m\u001b[0msuper_orbital\u001b[0m\u001b[1;33m[\u001b[0m\u001b[1;36m0\u001b[0m\u001b[1;33m]\u001b[0m\u001b[1;33m,\u001b[0m \u001b[0msuper_orbital\u001b[0m\u001b[1;33m[\u001b[0m\u001b[1;36m1\u001b[0m\u001b[1;33m]\u001b[0m\u001b[1;33m,\u001b[0m \u001b[0msuper_orbital\u001b[0m\u001b[1;33m[\u001b[0m\u001b[1;36m2\u001b[0m\u001b[1;33m]\u001b[0m\u001b[1;33m,\u001b[0m \u001b[0mscalars\u001b[0m \u001b[1;33m=\u001b[0m \u001b[0msuper_orbital\u001b[0m\u001b[1;33m[\u001b[0m\u001b[1;36m3\u001b[0m\u001b[1;33m]\u001b[0m\u001b[1;33m)\u001b[0m\u001b[1;33m\u001b[0m\u001b[0m\n\u001b[0m\u001b[0;32m      4\u001b[0m \u001b[0mmlab\u001b[0m\u001b[1;33m.\u001b[0m\u001b[0mview\u001b[0m\u001b[1;33m(\u001b[0m\u001b[1;36m90\u001b[0m\u001b[1;33m,\u001b[0m \u001b[1;36m70\u001b[0m\u001b[1;33m,\u001b[0m \u001b[1;36m1\u001b[0m\u001b[1;33m,\u001b[0m \u001b[1;33m(\u001b[0m\u001b[1;36m0\u001b[0m\u001b[1;33m,\u001b[0m \u001b[1;36m0\u001b[0m\u001b[1;33m,\u001b[0m \u001b[1;36m0\u001b[0m\u001b[1;33m)\u001b[0m\u001b[1;33m)\u001b[0m\u001b[1;33m\u001b[0m\u001b[0m\n\u001b[0;32m      5\u001b[0m \u001b[0mmlab\u001b[0m\u001b[1;33m.\u001b[0m\u001b[0mshow\u001b[0m\u001b[1;33m(\u001b[0m\u001b[1;33m)\u001b[0m\u001b[1;33m\u001b[0m\u001b[0m\n",
      "\u001b[1;31mNameError\u001b[0m: name 'super_orbital' is not defined"
     ]
    }
   ],
   "source": [
    "mlab.figure(1, bgcolor=(1, 1, 1), fgcolor=(0, 0, 0), size=(400, 300))\n",
    "mlab.clf()\n",
    "mlab.mesh(super_orbital[0], super_orbital[1], super_orbital[2], scalars = super_orbital[3])\n",
    "mlab.view(90, 70, 1, (0, 0, 0))\n",
    "mlab.show()"
   ]
  },
  {
   "cell_type": "code",
   "execution_count": 40,
   "metadata": {
    "collapsed": false
   },
   "outputs": [
    {
     "name": "stdout",
     "output_type": "stream",
     "text": [
      "[]\n"
     ]
    }
   ],
   "source": [
    "print(super_orbital)"
   ]
  },
  {
   "cell_type": "code",
   "execution_count": 14,
   "metadata": {
    "collapsed": false
   },
   "outputs": [],
   "source": [
    "my_orbital = superposition(0)\n",
    "mlab.figure(1, bgcolor=(1, 1, 1), fgcolor=(0, 0, 0), size=(400, 300))\n",
    "mlab.clf()\n",
    "fig = mlab.mesh(my_orbital[0], my_orbital[1], my_orbital[2], scalars = my_orbital[3])\n",
    "mlab.view(90, 70, 1, (0, 0, 0))\n",
    "fig_source = fig.mlab_source\n",
    "for time in np.arange(0,6,0.1):\n",
    "    my_orbital = superposition(time)\n",
    "    fig_source.set(x=my_orbital[0], y=my_orbital[1], z=my_orbital[2], scalars = my_orbital[3])\n",
    "    mlab.savefig(\"Time{:1f}.png\".format(time))\n",
    "#mlab.clf()"
   ]
  },
  {
   "cell_type": "code",
   "execution_count": 23,
   "metadata": {
    "collapsed": true
   },
   "outputs": [],
   "source": [
    "import numpy as np\n",
    "from scipy import stats\n",
    "from mayavi import mlab\n",
    "\n",
    "mu, sigma = 0, 0.1 \n",
    "x = 10*np.random.normal(mu, sigma, 5000)\n",
    "y = 10*np.random.normal(mu, sigma, 5000)\n",
    "z = 10*np.random.normal(mu, sigma, 5000)\n",
    "\n",
    "xyz = np.vstack([x,y,z])\n",
    "kde = stats.gaussian_kde(xyz)\n",
    "density = kde(xyz)\n",
    "\n",
    "# Plot scatter with mayavi\n",
    "figure = mlab.figure('DensityPlot')\n",
    "pts = mlab.points3d(x, y, z, density, scale_mode='none', scale_factor=0.07)\n",
    "mlab.axes()\n",
    "mlab.show()"
   ]
  },
  {
   "cell_type": "code",
   "execution_count": 24,
   "metadata": {
    "collapsed": true
   },
   "outputs": [],
   "source": [
    "# Plot scatter with mayavi\n",
    "figure = mlab.figure('DensityPlot', bgcolor=(1, 1, 1), fgcolor=(0, 0, 0), size=(400, 300))\n",
    "figure.scene.disable_render = True\n",
    "\n",
    "pts = mlab.points3d(x, y, z, density, scale_mode='none', scale_factor=0.07) \n",
    "mask = pts.glyph.mask_points\n",
    "mask.maximum_number_of_points = x.size\n",
    "mask.on_ratio = 1\n",
    "pts.glyph.mask_input_points = True\n",
    "\n",
    "figure.scene.disable_render = False \n",
    "mlab.axes()\n",
    "mlab.show()"
   ]
  },
  {
   "cell_type": "code",
   "execution_count": 22,
   "metadata": {
    "collapsed": false
   },
   "outputs": [],
   "source": [
    "mu, sigma = 0, 0.1 \n",
    "x = 10*np.random.normal(mu, sigma, 5000)\n",
    "y = 10*np.random.normal(mu, sigma, 5000)    \n",
    "z = 10*np.random.normal(mu, sigma, 5000)\n",
    "\n",
    "xyz = np.vstack([x,y,z])\n",
    "kde = stats.gaussian_kde(xyz)\n",
    "\n",
    "# Evaluate kde on a grid\n",
    "xmin, ymin, zmin = x.min(), y.min(), z.min()\n",
    "xmax, ymax, zmax = x.max(), y.max(), z.max()\n",
    "xi, yi, zi = np.mgrid[xmin:xmax:30j, ymin:ymax:30j, zmin:zmax:30j]\n",
    "coords = np.vstack([item.ravel() for item in [xi, yi, zi]]) \n",
    "density = kde(coords).reshape(xi.shape)\n",
    "\n",
    "# Plot scatter with mayavi\n",
    "figure = mlab.figure('DensityPlot', bgcolor=(1, 1, 1), fgcolor=(0, 0, 0), size=(400, 300))\n",
    "\n",
    "grid = mlab.pipeline.scalar_field(xi, yi, zi, density)\n",
    "min = density.min()\n",
    "max=density.max()\n",
    "mlab.pipeline.volume(grid, vmin=min, vmax=min + .5*(max-min))\n",
    "\n",
    "mlab.axes()\n",
    "mlab.show()"
   ]
  },
  {
   "cell_type": "code",
   "execution_count": null,
   "metadata": {
    "collapsed": true
   },
   "outputs": [],
   "source": [
    "import multiprocessing\n",
    "\n",
    "def calc_kde(data):\n",
    "    return kde(data.T)\n",
    "\n",
    "xyz = np.vstack([x,y,z])\n",
    "kde = stats.gaussian_kde(xyz)\n",
    "\n",
    "# Evaluate kde on a grid\n",
    "xmin, ymin, zmin = x.min(), y.min(), z.min()\n",
    "xmax, ymax, zmax = x.max(), y.max(), z.max()\n",
    "xi, yi, zi = np.mgrid[xmin:xmax:30j, ymin:ymax:30j, zmin:zmax:30j]\n",
    "coords = np.vstack([item.ravel() for item in [xi, yi, zi]]) \n",
    "\n",
    "# Multiprocessing\n",
    "cores = multiprocessing.cpu_count()\n",
    "pool = multiprocessing.Pool(processes=cores)\n",
    "results = pool.map(calc_kde, np.array_split(coords.T, 2))\n",
    "density = np.concatenate(results).reshape(xi.shape)\n",
    "\n",
    "# Plot scatter with mayavi\n",
    "figure = mlab.figure('DensityPlot')\n",
    "\n",
    "grid = mlab.pipeline.scalar_field(xi, yi, zi, density)\n",
    "min = density.min()\n",
    "max=density.max()\n",
    "mlab.pipeline.volume(grid, vmin=min, vmax=min + .5*(max-min))\n",
    "\n",
    "mlab.axes()\n",
    "mlab.show()"
   ]
  },
  {
   "cell_type": "code",
   "execution_count": null,
   "metadata": {
    "collapsed": true
   },
   "outputs": [],
   "source": []
  }
 ],
 "metadata": {
  "kernelspec": {
   "display_name": "Python 2",
   "language": "python",
   "name": "python2"
  },
  "language_info": {
   "codemirror_mode": {
    "name": "ipython",
    "version": 2
   },
   "file_extension": ".py",
   "mimetype": "text/x-python",
   "name": "python",
   "nbconvert_exporter": "python",
   "pygments_lexer": "ipython2",
   "version": "2.7.6"
  }
 },
 "nbformat": 4,
 "nbformat_minor": 0
}
